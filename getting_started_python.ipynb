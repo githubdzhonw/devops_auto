{
  "cells": [
    {
      "cell_type": "markdown",
      "metadata": {
        "colab_type": "text",
        "id": "view-in-github"
      },
      "source": [
        "<a href=\"https://colab.research.google.com/github/githubdzhonw/python-4-devops-2023/blob/main/getting_started_python.ipynb\" target=\"_parent\"><img src=\"https://colab.research.google.com/assets/colab-badge.svg\" alt=\"Open In Colab\"/></a>"
      ]
    },
    {
      "cell_type": "markdown",
      "metadata": {
        "id": "K-zWIptnR475"
      },
      "source": [
        "Introduction"
      ]
    },
    {
      "cell_type": "markdown",
      "metadata": {
        "id": "OfVfZz5rRxXw"
      },
      "source": [
        "statement of python"
      ]
    },
    {
      "cell_type": "code",
      "execution_count": 3,
      "metadata": {
        "colab": {
          "base_uri": "https://localhost:8080/"
        },
        "id": "GQa8JY7qSIpl",
        "outputId": "1cdbaa0a-5124-423d-824e-dd438c12d908"
      },
      "outputs": [
        {
          "name": "stdout",
          "output_type": "stream",
          "text": [
            "hello world\n"
          ]
        }
      ],
      "source": [
        "print(\"hello world\")"
      ]
    },
    {
      "cell_type": "code",
      "execution_count": 4,
      "metadata": {
        "colab": {
          "base_uri": "https://localhost:8080/"
        },
        "id": "uuFY-z92SQJp",
        "outputId": "23ea2238-7a4f-4809-f025-3d71de9b015e"
      },
      "outputs": [
        {
          "name": "stdout",
          "output_type": "stream",
          "text": [
            "hello Bob\n"
          ]
        }
      ],
      "source": [
        "name=\"Bob\"\n",
        "print(f\"hello {name}\")"
      ]
    },
    {
      "cell_type": "markdown",
      "metadata": {
        "id": "ycqzdxzSSiWj"
      },
      "source": [
        "Data structures"
      ]
    },
    {
      "cell_type": "code",
      "execution_count": 5,
      "metadata": {
        "id": "bsuZaYxmShwr"
      },
      "outputs": [],
      "source": [
        "fruit = [\"apple\", \"pear\", \"strawberry\"]"
      ]
    },
    {
      "cell_type": "code",
      "execution_count": 6,
      "metadata": {
        "colab": {
          "base_uri": "https://localhost:8080/"
        },
        "id": "p3BSwf7oS0ed",
        "outputId": "80d03a41-8276-4b94-b841-15e258cb793b"
      },
      "outputs": [
        {
          "data": {
            "text/plain": [
              "list"
            ]
          },
          "execution_count": 6,
          "metadata": {},
          "output_type": "execute_result"
        }
      ],
      "source": [
        "type(fruit)"
      ]
    },
    {
      "cell_type": "code",
      "execution_count": 7,
      "metadata": {
        "colab": {
          "base_uri": "https://localhost:8080/"
        },
        "id": "xwdnkr0eS7nm",
        "outputId": "dcc15eea-8206-4945-9b3e-f97e2ba75a27"
      },
      "outputs": [
        {
          "name": "stdout",
          "output_type": "stream",
          "text": [
            "this is my fruit : apple\n",
            "this is my fruit : pear\n",
            "this is my fruit : strawberry\n"
          ]
        }
      ],
      "source": [
        "for item in fruit:\n",
        "  print(f\"this is my fruit : {item}\")"
      ]
    },
    {
      "cell_type": "markdown",
      "metadata": {
        "id": "WDe5CLMSTQsB"
      },
      "source": [
        "dictionary"
      ]
    },
    {
      "cell_type": "code",
      "execution_count": 8,
      "metadata": {
        "id": "F3I8VWh_TSW8"
      },
      "outputs": [],
      "source": [
        "meal = {\"breakfast\":\"black coffee\", \"lunch\":\"salads\", \"dinner\": \"rice and beans\"}"
      ]
    },
    {
      "cell_type": "code",
      "execution_count": 9,
      "metadata": {
        "colab": {
          "base_uri": "https://localhost:8080/"
        },
        "id": "vwOsRZjETkLW",
        "outputId": "968206af-ff8e-4196-cc93-c169dca542ec"
      },
      "outputs": [
        {
          "data": {
            "text/plain": [
              "dict_keys(['breakfast', 'lunch', 'dinner'])"
            ]
          },
          "execution_count": 9,
          "metadata": {},
          "output_type": "execute_result"
        }
      ],
      "source": [
        "meal.keys()"
      ]
    },
    {
      "cell_type": "code",
      "execution_count": 10,
      "metadata": {
        "colab": {
          "base_uri": "https://localhost:8080/"
        },
        "id": "w_VhDkwQTh7e",
        "outputId": "6a8852cd-f0fa-4e8b-d87b-afeff5e0a093"
      },
      "outputs": [
        {
          "name": "stdout",
          "output_type": "stream",
          "text": [
            "This meal breakfast is when I like to consume black coffee\n",
            "This meal lunch is when I like to consume salads\n",
            "This meal dinner is when I like to consume rice and beans\n"
          ]
        }
      ],
      "source": [
        "for mealname in meal:\n",
        "  print(f\"This meal {mealname} is when I like to consume {meal[mealname]}\")"
      ]
    }
  ],
  "metadata": {
    "colab": {
      "authorship_tag": "ABX9TyP05dpMo80yJzGfDSEBBVjS",
      "include_colab_link": true,
      "provenance": []
    },
    "kernelspec": {
      "display_name": "Python 3",
      "name": "python3"
    },
    "language_info": {
      "codemirror_mode": {
        "name": "ipython",
        "version": 3
      },
      "file_extension": ".py",
      "mimetype": "text/x-python",
      "name": "python",
      "nbconvert_exporter": "python",
      "pygments_lexer": "ipython3",
      "version": "3.10.4"
    }
  },
  "nbformat": 4,
  "nbformat_minor": 0
}
